{
  "nbformat": 4,
  "nbformat_minor": 0,
  "metadata": {
    "colab": {
      "name": "[D³] Algebra Linear",
      "provenance": [],
      "collapsed_sections": []
    },
    "kernelspec": {
      "name": "python3",
      "display_name": "Python 3"
    }
  },
  "cells": [
    {
      "cell_type": "markdown",
      "metadata": {
        "id": "K1FsaC50D8B2",
        "colab_type": "text"
      },
      "source": [
        "![Texto](https://dadosaocubo.com/wp-content/uploads/2020/06/DADOS-AO-CUBO-Vers%C3%A3o-04-1.png) "
      ]
    },
    {
      "cell_type": "markdown",
      "metadata": {
        "id": "xKPS0k_Fdwk4",
        "colab_type": "text"
      },
      "source": [
        "#**Algebra Linear com Numpy**\n",
        "\n",
        "POST: [Algebra Linear com Numpy](https://dadosaocubo.com/algebra-linear-com-numpy/)\n",
        "\n",
        "### 1. Carregar biblioteca Numpy e gerar dados aleatórios\n",
        "\n",
        "O método random.randint gera números inteiros pseudo-aleatórios enquanto o método random.rand gera números do tipo ponto flutuante (*float*).\n",
        "\n",
        "Vamos inicializar a semente (*seed*) dos números aleatórios com o número 42."
      ]
    },
    {
      "cell_type": "code",
      "metadata": {
        "id": "7uQx_5M5GUF2",
        "colab_type": "code",
        "colab": {}
      },
      "source": [
        "import numpy as np\n",
        "\n",
        "np.random.seed(42)"
      ],
      "execution_count": null,
      "outputs": []
    },
    {
      "cell_type": "code",
      "metadata": {
        "id": "nVAMD1bUeb5W",
        "colab_type": "code",
        "colab": {
          "base_uri": "https://localhost:8080/",
          "height": 72
        },
        "outputId": "6d1005eb-85c4-471b-87d7-e0e3b107d8bd"
      },
      "source": [
        " \n",
        "a"
      ],
      "execution_count": null,
      "outputs": [
        {
          "output_type": "execute_result",
          "data": {
            "text/plain": [
              "array([[4, 8, 8],\n",
              "       [3, 6, 5],\n",
              "       [2, 8, 6]])"
            ]
          },
          "metadata": {
            "tags": []
          },
          "execution_count": 3
        }
      ]
    },
    {
      "cell_type": "code",
      "metadata": {
        "id": "DGPkkPlCdvKr",
        "colab_type": "code",
        "colab": {
          "base_uri": "https://localhost:8080/",
          "height": 72
        },
        "outputId": "cf478976-a285-4ea7-80a3-6748cbbf3e35"
      },
      "source": [
        "b = np.random.randint(low=1, high=10, size=(3,3))\n",
        "b"
      ],
      "execution_count": null,
      "outputs": [
        {
          "output_type": "execute_result",
          "data": {
            "text/plain": [
              "array([[2, 5, 1],\n",
              "       [6, 9, 1],\n",
              "       [3, 7, 4]])"
            ]
          },
          "metadata": {
            "tags": []
          },
          "execution_count": 4
        }
      ]
    },
    {
      "cell_type": "code",
      "metadata": {
        "id": "kGmzf-_KijH9",
        "colab_type": "code",
        "colab": {}
      },
      "source": [
        "c = np.random.randint(low=1, high=10, size=(5))"
      ],
      "execution_count": null,
      "outputs": []
    },
    {
      "cell_type": "markdown",
      "metadata": {
        "id": "x4uFFXcYh2u_",
        "colab_type": "text"
      },
      "source": [
        "### 2. Operações com matrizes\n",
        "\n",
        "A adição (+) e subtração (-) são feitas elemento a elemento. As duas matrizes precisam ter as mesmas dimensões."
      ]
    },
    {
      "cell_type": "code",
      "metadata": {
        "id": "OS4S2RByeuN4",
        "colab_type": "code",
        "colab": {
          "base_uri": "https://localhost:8080/",
          "height": 72
        },
        "outputId": "54294337-fae1-48ff-9c4c-91e9c62fdaa1"
      },
      "source": [
        "a+b"
      ],
      "execution_count": null,
      "outputs": [
        {
          "output_type": "execute_result",
          "data": {
            "text/plain": [
              "array([[ 6, 13,  9],\n",
              "       [ 9, 15,  6],\n",
              "       [ 5, 15, 10]])"
            ]
          },
          "metadata": {
            "tags": []
          },
          "execution_count": 5
        }
      ]
    },
    {
      "cell_type": "code",
      "metadata": {
        "id": "nexYecLlfB3Q",
        "colab_type": "code",
        "colab": {
          "base_uri": "https://localhost:8080/",
          "height": 72
        },
        "outputId": "92c62d7b-e9ed-4bbc-9e91-e5edea6ac4cd"
      },
      "source": [
        "a-b"
      ],
      "execution_count": null,
      "outputs": [
        {
          "output_type": "execute_result",
          "data": {
            "text/plain": [
              "array([[ 2,  3,  7],\n",
              "       [-3, -3,  4],\n",
              "       [-1,  1,  2]])"
            ]
          },
          "metadata": {
            "tags": []
          },
          "execution_count": 12
        }
      ]
    },
    {
      "cell_type": "markdown",
      "metadata": {
        "id": "rIq2Vu6u6fUF",
        "colab_type": "text"
      },
      "source": [
        "A multiplicação escalar de matrizes também é feito elemento a elemento. As duas matrizes precisam ter as mesmas dimensões."
      ]
    },
    {
      "cell_type": "code",
      "metadata": {
        "id": "2a9UwDr7evEO",
        "colab_type": "code",
        "colab": {}
      },
      "source": [
        "a*b"
      ],
      "execution_count": null,
      "outputs": []
    },
    {
      "cell_type": "markdown",
      "metadata": {
        "id": "sFfoBAxK62rk",
        "colab_type": "text"
      },
      "source": [
        "Já o produto interno (*dot product* ) é feito entre matrizes de tamanho m x k e k x n e resulta numa matriz m x n. Ele é feito multiplicando linha a linha com coluna a coluna. É importante perceber que AB é diferente de BA."
      ]
    },
    {
      "cell_type": "code",
      "metadata": {
        "id": "yk7Mo-AYevv0",
        "colab_type": "code",
        "colab": {
          "base_uri": "https://localhost:8080/",
          "height": 72
        },
        "outputId": "251cffa1-e137-4b66-ccd0-238be37d594e"
      },
      "source": [
        "np.dot(a,b)"
      ],
      "execution_count": null,
      "outputs": [
        {
          "output_type": "execute_result",
          "data": {
            "text/plain": [
              "array([[ 80, 148,  44],\n",
              "       [ 57, 104,  29],\n",
              "       [ 70, 124,  34]])"
            ]
          },
          "metadata": {
            "tags": []
          },
          "execution_count": 7
        }
      ]
    },
    {
      "cell_type": "code",
      "metadata": {
        "id": "oRlzVolSew66",
        "colab_type": "code",
        "colab": {
          "base_uri": "https://localhost:8080/",
          "height": 72
        },
        "outputId": "66c2d5c7-d471-4c20-aebe-cfdd05e15856"
      },
      "source": [
        "np.dot(b,a)"
      ],
      "execution_count": null,
      "outputs": [
        {
          "output_type": "execute_result",
          "data": {
            "text/plain": [
              "array([[ 25,  54,  47],\n",
              "       [ 53, 110,  99],\n",
              "       [ 41,  98,  83]])"
            ]
          },
          "metadata": {
            "tags": []
          },
          "execution_count": 8
        }
      ]
    },
    {
      "cell_type": "markdown",
      "metadata": {
        "id": "M0UfESxK7w7T",
        "colab_type": "text"
      },
      "source": [
        "A multiplicação por um escalar retorna cada elemento da matriz multiplicado por esse escalar."
      ]
    },
    {
      "cell_type": "code",
      "metadata": {
        "id": "qQJIYK7-eyBN",
        "colab_type": "code",
        "colab": {
          "base_uri": "https://localhost:8080/",
          "height": 72
        },
        "outputId": "e5188daf-b8a1-4bda-a983-c0e1505cf5da"
      },
      "source": [
        "5*a"
      ],
      "execution_count": null,
      "outputs": [
        {
          "output_type": "execute_result",
          "data": {
            "text/plain": [
              "array([[20, 40, 40],\n",
              "       [15, 30, 25],\n",
              "       [10, 40, 30]])"
            ]
          },
          "metadata": {
            "tags": []
          },
          "execution_count": 9
        }
      ]
    },
    {
      "cell_type": "markdown",
      "metadata": {
        "id": "daIWeLKj730I",
        "colab_type": "text"
      },
      "source": [
        "Para obter a inversa, utiliza-se técnicas como a **Eliminação de Gauss**."
      ]
    },
    {
      "cell_type": "code",
      "metadata": {
        "id": "kL4yRen0e4XL",
        "colab_type": "code",
        "colab": {
          "base_uri": "https://localhost:8080/",
          "height": 72
        },
        "outputId": "59e89416-ef9c-4441-9818-77643b199ee7"
      },
      "source": [
        "np.linalg.inv(a) "
      ],
      "execution_count": null,
      "outputs": [
        {
          "output_type": "execute_result",
          "data": {
            "text/plain": [
              "array([[-0.25,  1.  , -0.5 ],\n",
              "       [-0.5 ,  0.5 ,  0.25],\n",
              "       [ 0.75, -1.  , -0.  ]])"
            ]
          },
          "metadata": {
            "tags": []
          },
          "execution_count": 10
        }
      ]
    },
    {
      "cell_type": "markdown",
      "metadata": {
        "id": "o3tEybI08HuN",
        "colab_type": "text"
      },
      "source": [
        "Para obter a transposta, basta inverter as linhas com colunas, no Numpy isso é feito acessando o atributo T."
      ]
    },
    {
      "cell_type": "code",
      "metadata": {
        "id": "SIH0ERtOe7_f",
        "colab_type": "code",
        "colab": {
          "base_uri": "https://localhost:8080/",
          "height": 72
        },
        "outputId": "f2824706-751e-4317-be37-b06e2cdf3237"
      },
      "source": [
        "a.T"
      ],
      "execution_count": null,
      "outputs": [
        {
          "output_type": "execute_result",
          "data": {
            "text/plain": [
              "array([[4, 3, 2],\n",
              "       [8, 6, 8],\n",
              "       [8, 5, 6]])"
            ]
          },
          "metadata": {
            "tags": []
          },
          "execution_count": 11
        }
      ]
    },
    {
      "cell_type": "markdown",
      "metadata": {
        "id": "C6AdkpSVhyp6",
        "colab_type": "text"
      },
      "source": [
        "### 3. Fatiamento (Slices)\n",
        "\n",
        "*Slices* são fatias dos arrays (vetores ou matrizes). O fatiamento pode ser executado tanto *row-wise* (por linha) quanto *column-wise *(por coluna). O mais comum é por linha.\n",
        "\n",
        "No exemplo abaixo, ao chamar o elemento 0 vai me retornar a primeira linha da matriz. Caso eu chame o elemento 0 de um vetor c ele vai me retornar o primeiro elemento (escalar)."
      ]
    },
    {
      "cell_type": "code",
      "metadata": {
        "id": "gXbNrNIce829",
        "colab_type": "code",
        "colab": {
          "base_uri": "https://localhost:8080/",
          "height": 35
        },
        "outputId": "d134fef5-57e8-4d00-9b19-fe61c6e2084b"
      },
      "source": [
        "a[0]"
      ],
      "execution_count": null,
      "outputs": [
        {
          "output_type": "execute_result",
          "data": {
            "text/plain": [
              "array([4, 8, 8])"
            ]
          },
          "metadata": {
            "tags": []
          },
          "execution_count": 13
        }
      ]
    },
    {
      "cell_type": "code",
      "metadata": {
        "id": "WmgHCzvyiv-6",
        "colab_type": "code",
        "colab": {
          "base_uri": "https://localhost:8080/",
          "height": 35
        },
        "outputId": "74c9c621-2de9-4b8b-df09-693aa90477fb"
      },
      "source": [
        "c[0]"
      ],
      "execution_count": null,
      "outputs": [
        {
          "output_type": "execute_result",
          "data": {
            "text/plain": [
              "9"
            ]
          },
          "metadata": {
            "tags": []
          },
          "execution_count": 28
        }
      ]
    },
    {
      "cell_type": "markdown",
      "metadata": {
        "id": "468dUs5siyUu",
        "colab_type": "text"
      },
      "source": [
        "No próximo exemplo, vamos acessar as colunas da matriz. Eu peço o elemento da linha 2 e coluna 2 (lembrando que o indice começa em 0). Vai me retornar um escalar. Lembrando que pode-se usar duas sintaxes diferentes para isso, tanto A[X][Y] quanto A[X, Y]."
      ]
    },
    {
      "cell_type": "code",
      "metadata": {
        "id": "p1lCP6MThi6u",
        "colab_type": "code",
        "colab": {
          "base_uri": "https://localhost:8080/",
          "height": 35
        },
        "outputId": "1b28177a-c3af-480c-f198-c104f9e57cc2"
      },
      "source": [
        "a[2][2]"
      ],
      "execution_count": null,
      "outputs": [
        {
          "output_type": "execute_result",
          "data": {
            "text/plain": [
              "6"
            ]
          },
          "metadata": {
            "tags": []
          },
          "execution_count": 25
        }
      ]
    },
    {
      "cell_type": "code",
      "metadata": {
        "id": "Sm_tu83thrNX",
        "colab_type": "code",
        "colab": {
          "base_uri": "https://localhost:8080/",
          "height": 35
        },
        "outputId": "5b0ae595-cbe4-4e7a-b906-b340178c5748"
      },
      "source": [
        "a[2,2]"
      ],
      "execution_count": null,
      "outputs": [
        {
          "output_type": "execute_result",
          "data": {
            "text/plain": [
              "6"
            ]
          },
          "metadata": {
            "tags": []
          },
          "execution_count": 26
        }
      ]
    },
    {
      "cell_type": "markdown",
      "metadata": {
        "id": "k1yPAnUzjIrm",
        "colab_type": "text"
      },
      "source": [
        "Agora vamos observar a utilização dos dois-pontos (:). Ele serve pra me retornar um intervalo de valores. Se eu chamo a[:1] eu to pedindo pra me retornar do elemento 0 até o elemento y-1, no caso 1-1 = 0. Então ele me retorna o elemento da posição 0, o que é o mesmo que fazer a[0]."
      ]
    },
    {
      "cell_type": "code",
      "metadata": {
        "id": "IUOGE9Dogwe9",
        "colab_type": "code",
        "colab": {
          "base_uri": "https://localhost:8080/",
          "height": 35
        },
        "outputId": "dcdebac8-009c-4148-8ef6-7e00e53fc6fa"
      },
      "source": [
        "a[:1]"
      ],
      "execution_count": null,
      "outputs": [
        {
          "output_type": "execute_result",
          "data": {
            "text/plain": [
              "array([[4, 8, 8]])"
            ]
          },
          "metadata": {
            "tags": []
          },
          "execution_count": 15
        }
      ]
    },
    {
      "cell_type": "markdown",
      "metadata": {
        "id": "LOjwaz8pj7QH",
        "colab_type": "text"
      },
      "source": [
        "Se eu peço a[:2] vai me retornar do elemento 0 até o elemento 1 (2-1=1)."
      ]
    },
    {
      "cell_type": "code",
      "metadata": {
        "id": "NSypkjx3gzNv",
        "colab_type": "code",
        "colab": {
          "base_uri": "https://localhost:8080/",
          "height": 54
        },
        "outputId": "ed7f2796-6973-4085-b967-831402815ba5"
      },
      "source": [
        "a[:2]"
      ],
      "execution_count": null,
      "outputs": [
        {
          "output_type": "execute_result",
          "data": {
            "text/plain": [
              "array([[4, 8, 8],\n",
              "       [3, 6, 5]])"
            ]
          },
          "metadata": {
            "tags": []
          },
          "execution_count": 17
        }
      ]
    },
    {
      "cell_type": "markdown",
      "metadata": {
        "id": "Ls-aJNWvkJhQ",
        "colab_type": "text"
      },
      "source": [
        "Já se eu peço a[2:] vai me retornar do elemento 2 até o elemento n-1 (que é igual a 2), onde n é o tamanho da linha ou coluna pedida."
      ]
    },
    {
      "cell_type": "code",
      "metadata": {
        "id": "op6_huILhJmK",
        "colab_type": "code",
        "colab": {
          "base_uri": "https://localhost:8080/",
          "height": 35
        },
        "outputId": "4cc3a6ad-5b83-4fc2-aabb-85a94641ad9a"
      },
      "source": [
        "a[2:]"
      ],
      "execution_count": null,
      "outputs": [
        {
          "output_type": "execute_result",
          "data": {
            "text/plain": [
              "array([[2, 8, 6]])"
            ]
          },
          "metadata": {
            "tags": []
          },
          "execution_count": 18
        }
      ]
    },
    {
      "cell_type": "markdown",
      "metadata": {
        "id": "Xzr4rDY0kddN",
        "colab_type": "text"
      },
      "source": [
        "Se utilizar o menos (-), ele vai retornar na ordem inversa. Se eu tentar acessar o elemento -1 ele vai me retornar o último elemento."
      ]
    },
    {
      "cell_type": "code",
      "metadata": {
        "id": "OA_6bX3QlK-O",
        "colab_type": "code",
        "colab": {
          "base_uri": "https://localhost:8080/",
          "height": 35
        },
        "outputId": "8b61cb84-fc09-4e33-b18e-c2386763e265"
      },
      "source": [
        "a[-1]"
      ],
      "execution_count": null,
      "outputs": [
        {
          "output_type": "execute_result",
          "data": {
            "text/plain": [
              "array([2, 8, 6])"
            ]
          },
          "metadata": {
            "tags": []
          },
          "execution_count": 32
        }
      ]
    },
    {
      "cell_type": "markdown",
      "metadata": {
        "id": "-kfEsPBglSfx",
        "colab_type": "text"
      },
      "source": [
        "Se eu pedir a[:-2] ele vai me retornar do elemento 0 até menos os dois últimos elementos."
      ]
    },
    {
      "cell_type": "code",
      "metadata": {
        "id": "WNeaVIuFkd_H",
        "colab_type": "code",
        "colab": {
          "base_uri": "https://localhost:8080/",
          "height": 54
        },
        "outputId": "7ff65c68-d7d5-452a-adf9-03648d41c924"
      },
      "source": [
        "a[:-2]"
      ],
      "execution_count": null,
      "outputs": [
        {
          "output_type": "execute_result",
          "data": {
            "text/plain": [
              "array([[4, 8, 8],\n",
              "       [3, 6, 5]])"
            ]
          },
          "metadata": {
            "tags": []
          },
          "execution_count": 30
        }
      ]
    },
    {
      "cell_type": "markdown",
      "metadata": {
        "id": "zjPMyYoCk2-u",
        "colab_type": "text"
      },
      "source": [
        "Já se eu pedir a[-2:] ele vai me retornar 2 elementos até último elemento (n-1)."
      ]
    },
    {
      "cell_type": "code",
      "metadata": {
        "id": "N822v29uk2ZC",
        "colab_type": "code",
        "colab": {
          "base_uri": "https://localhost:8080/",
          "height": 54
        },
        "outputId": "8cf309ba-bbb3-4be0-d213-4b68ff1e326f"
      },
      "source": [
        "a[-2:]"
      ],
      "execution_count": null,
      "outputs": [
        {
          "output_type": "execute_result",
          "data": {
            "text/plain": [
              "array([[3, 6, 5],\n",
              "       [2, 8, 6]])"
            ]
          },
          "metadata": {
            "tags": []
          },
          "execution_count": 38
        }
      ]
    },
    {
      "cell_type": "markdown",
      "metadata": {
        "id": "8VGZETMomivc",
        "colab_type": "text"
      },
      "source": [
        "Eu posso também dizer de onde até onde eu quero. Se eu fizer a[1:3] ele vai retornar do elemento 1 até o elemento y-1 (3-1=2). Então vai me retornar o elemento 1 e o elemento 2."
      ]
    },
    {
      "cell_type": "code",
      "metadata": {
        "id": "eAdSRt-dhLkn",
        "colab_type": "code",
        "colab": {
          "base_uri": "https://localhost:8080/",
          "height": 54
        },
        "outputId": "eb09b19c-f4b2-4150-bee2-f82b80628703"
      },
      "source": [
        "a[1:3]"
      ],
      "execution_count": null,
      "outputs": [
        {
          "output_type": "execute_result",
          "data": {
            "text/plain": [
              "array([[3, 6, 5],\n",
              "       [2, 8, 6]])"
            ]
          },
          "metadata": {
            "tags": []
          },
          "execution_count": 19
        }
      ]
    },
    {
      "cell_type": "markdown",
      "metadata": {
        "id": "MYQ8B7NcmvQt",
        "colab_type": "text"
      },
      "source": [
        "Por último, podemos acessar os elementos por coluna com o operador dois-pontos (:) sem nenhum argumento. Quando eu chamo a[:,1] estou dizendo pra me retornar todos os elementos da coluna 1. Todas as operações mostradas são válidas também nesse modo."
      ]
    },
    {
      "cell_type": "code",
      "metadata": {
        "id": "lefwR5VUhRFG",
        "colab_type": "code",
        "colab": {
          "base_uri": "https://localhost:8080/",
          "height": 35
        },
        "outputId": "d409096c-cb41-48b5-e130-a57db8121232"
      },
      "source": [
        "a[:,1]"
      ],
      "execution_count": null,
      "outputs": [
        {
          "output_type": "execute_result",
          "data": {
            "text/plain": [
              "array([8, 6, 8])"
            ]
          },
          "metadata": {
            "tags": []
          },
          "execution_count": 22
        }
      ]
    },
    {
      "cell_type": "markdown",
      "metadata": {
        "id": "YmVbjiIlnZT9",
        "colab_type": "text"
      },
      "source": [
        "### **Fim.**\n",
        "\n",
        "\n",
        "![42](https://upload.wikimedia.org/wikipedia/commons/5/56/Answer_to_Life.png)"
      ]
    }
  ]
}